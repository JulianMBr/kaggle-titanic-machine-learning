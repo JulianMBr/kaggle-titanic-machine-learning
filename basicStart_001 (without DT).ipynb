{
 "cells": [
  {
   "cell_type": "code",
   "execution_count": 1,
   "metadata": {
    "collapsed": false,
    "scrolled": false
   },
   "outputs": [
    {
     "data": {
      "text/html": [
       "<table>\n",
       "<thead><tr><th></th><th scope=col>PassengerId</th><th scope=col>Survived</th><th scope=col>Pclass</th><th scope=col>Name</th><th scope=col>Sex</th><th scope=col>Age</th><th scope=col>SibSp</th><th scope=col>Parch</th><th scope=col>Ticket</th><th scope=col>Fare</th><th scope=col>Cabin</th><th scope=col>Embarked</th></tr></thead>\n",
       "<tbody>\n",
       "\t<tr><th scope=row>1</th><td>1</td><td>0</td><td>3</td><td>Braund, Mr. Owen Harris</td><td>male</td><td>22</td><td>1</td><td>0</td><td>A/5 21171</td><td>7.25</td><td></td><td>S</td></tr>\n",
       "\t<tr><th scope=row>2</th><td>2</td><td>1</td><td>1</td><td>Cumings, Mrs. John Bradley (Florence Briggs Thayer)</td><td>female</td><td>38</td><td>1</td><td>0</td><td>PC 17599</td><td>71.2833</td><td>C85</td><td>C</td></tr>\n",
       "\t<tr><th scope=row>3</th><td>3</td><td>1</td><td>3</td><td>Heikkinen, Miss. Laina</td><td>female</td><td>26</td><td>0</td><td>0</td><td>STON/O2. 3101282</td><td>7.925</td><td></td><td>S</td></tr>\n",
       "\t<tr><th scope=row>4</th><td>4</td><td>1</td><td>1</td><td>Futrelle, Mrs. Jacques Heath (Lily May Peel)</td><td>female</td><td>35</td><td>1</td><td>0</td><td>113803</td><td>53.1</td><td>C123</td><td>S</td></tr>\n",
       "\t<tr><th scope=row>5</th><td>5</td><td>0</td><td>3</td><td>Allen, Mr. William Henry</td><td>male</td><td>35</td><td>0</td><td>0</td><td>373450</td><td>8.05</td><td></td><td>S</td></tr>\n",
       "\t<tr><th scope=row>6</th><td>6</td><td>0</td><td>3</td><td>Moran, Mr. James</td><td>male</td><td>NA</td><td>0</td><td>0</td><td>330877</td><td>8.4583</td><td></td><td>Q</td></tr>\n",
       "</tbody>\n",
       "</table>\n"
      ],
      "text/latex": [
       "\\begin{tabular}{r|llllllllllll}\n",
       "  & PassengerId & Survived & Pclass & Name & Sex & Age & SibSp & Parch & Ticket & Fare & Cabin & Embarked\\\\\n",
       "\\hline\n",
       "\t1 & 1 & 0 & 3 & Braund, Mr. Owen Harris & male & 22 & 1 & 0 & A/5 21171 & 7.25 &  & S\\\\\n",
       "\t2 & 2 & 1 & 1 & Cumings, Mrs. John Bradley (Florence Briggs Thayer) & female & 38 & 1 & 0 & PC 17599 & 71.2833 & C85 & C\\\\\n",
       "\t3 & 3 & 1 & 3 & Heikkinen, Miss. Laina & female & 26 & 0 & 0 & STON/O2. 3101282 & 7.925 &  & S\\\\\n",
       "\t4 & 4 & 1 & 1 & Futrelle, Mrs. Jacques Heath (Lily May Peel) & female & 35 & 1 & 0 & 113803 & 53.1 & C123 & S\\\\\n",
       "\t5 & 5 & 0 & 3 & Allen, Mr. William Henry & male & 35 & 0 & 0 & 373450 & 8.05 &  & S\\\\\n",
       "\t6 & 6 & 0 & 3 & Moran, Mr. James & male & NA & 0 & 0 & 330877 & 8.4583 &  & Q\\\\\n",
       "\\end{tabular}\n"
      ],
      "text/plain": [
       "  PassengerId Survived Pclass\n",
       "1           1        0      3\n",
       "2           2        1      1\n",
       "3           3        1      3\n",
       "4           4        1      1\n",
       "5           5        0      3\n",
       "6           6        0      3\n",
       "                                                 Name    Sex Age SibSp Parch\n",
       "1                             Braund, Mr. Owen Harris   male  22     1     0\n",
       "2 Cumings, Mrs. John Bradley (Florence Briggs Thayer) female  38     1     0\n",
       "3                              Heikkinen, Miss. Laina female  26     0     0\n",
       "4        Futrelle, Mrs. Jacques Heath (Lily May Peel) female  35     1     0\n",
       "5                            Allen, Mr. William Henry   male  35     0     0\n",
       "6                                    Moran, Mr. James   male  NA     0     0\n",
       "            Ticket    Fare Cabin Embarked\n",
       "1        A/5 21171  7.2500              S\n",
       "2         PC 17599 71.2833   C85        C\n",
       "3 STON/O2. 3101282  7.9250              S\n",
       "4           113803 53.1000  C123        S\n",
       "5           373450  8.0500              S\n",
       "6           330877  8.4583              Q"
      ]
     },
     "execution_count": 1,
     "metadata": {},
     "output_type": "execute_result"
    },
    {
     "data": {
      "text/html": [
       "<table>\n",
       "<thead><tr><th></th><th scope=col>PassengerId</th><th scope=col>Pclass</th><th scope=col>Name</th><th scope=col>Sex</th><th scope=col>Age</th><th scope=col>SibSp</th><th scope=col>Parch</th><th scope=col>Ticket</th><th scope=col>Fare</th><th scope=col>Cabin</th><th scope=col>Embarked</th></tr></thead>\n",
       "<tbody>\n",
       "\t<tr><th scope=row>1</th><td>892</td><td>3</td><td>Kelly, Mr. James</td><td>male</td><td>34.5</td><td>0</td><td>0</td><td>330911</td><td>7.8292</td><td></td><td>Q</td></tr>\n",
       "\t<tr><th scope=row>2</th><td>893</td><td>3</td><td>Wilkes, Mrs. James (Ellen Needs)</td><td>female</td><td>47</td><td>1</td><td>0</td><td>363272</td><td>7</td><td></td><td>S</td></tr>\n",
       "\t<tr><th scope=row>3</th><td>894</td><td>2</td><td>Myles, Mr. Thomas Francis</td><td>male</td><td>62</td><td>0</td><td>0</td><td>240276</td><td>9.6875</td><td></td><td>Q</td></tr>\n",
       "\t<tr><th scope=row>4</th><td>895</td><td>3</td><td>Wirz, Mr. Albert</td><td>male</td><td>27</td><td>0</td><td>0</td><td>315154</td><td>8.6625</td><td></td><td>S</td></tr>\n",
       "\t<tr><th scope=row>5</th><td>896</td><td>3</td><td>Hirvonen, Mrs. Alexander (Helga E Lindqvist)</td><td>female</td><td>22</td><td>1</td><td>1</td><td>3101298</td><td>12.2875</td><td></td><td>S</td></tr>\n",
       "\t<tr><th scope=row>6</th><td>897</td><td>3</td><td>Svensson, Mr. Johan Cervin</td><td>male</td><td>14</td><td>0</td><td>0</td><td>7538</td><td>9.225</td><td></td><td>S</td></tr>\n",
       "</tbody>\n",
       "</table>\n"
      ],
      "text/latex": [
       "\\begin{tabular}{r|lllllllllll}\n",
       "  & PassengerId & Pclass & Name & Sex & Age & SibSp & Parch & Ticket & Fare & Cabin & Embarked\\\\\n",
       "\\hline\n",
       "\t1 & 892 & 3 & Kelly, Mr. James & male & 34.5 & 0 & 0 & 330911 & 7.8292 &  & Q\\\\\n",
       "\t2 & 893 & 3 & Wilkes, Mrs. James (Ellen Needs) & female & 47 & 1 & 0 & 363272 & 7 &  & S\\\\\n",
       "\t3 & 894 & 2 & Myles, Mr. Thomas Francis & male & 62 & 0 & 0 & 240276 & 9.6875 &  & Q\\\\\n",
       "\t4 & 895 & 3 & Wirz, Mr. Albert & male & 27 & 0 & 0 & 315154 & 8.6625 &  & S\\\\\n",
       "\t5 & 896 & 3 & Hirvonen, Mrs. Alexander (Helga E Lindqvist) & female & 22 & 1 & 1 & 3101298 & 12.2875 &  & S\\\\\n",
       "\t6 & 897 & 3 & Svensson, Mr. Johan Cervin & male & 14 & 0 & 0 & 7538 & 9.225 &  & S\\\\\n",
       "\\end{tabular}\n"
      ],
      "text/plain": [
       "  PassengerId Pclass                                         Name    Sex  Age\n",
       "1         892      3                             Kelly, Mr. James   male 34.5\n",
       "2         893      3             Wilkes, Mrs. James (Ellen Needs) female 47.0\n",
       "3         894      2                    Myles, Mr. Thomas Francis   male 62.0\n",
       "4         895      3                             Wirz, Mr. Albert   male 27.0\n",
       "5         896      3 Hirvonen, Mrs. Alexander (Helga E Lindqvist) female 22.0\n",
       "6         897      3                   Svensson, Mr. Johan Cervin   male 14.0\n",
       "  SibSp Parch  Ticket    Fare Cabin Embarked\n",
       "1     0     0  330911  7.8292              Q\n",
       "2     1     0  363272  7.0000              S\n",
       "3     0     0  240276  9.6875              Q\n",
       "4     0     0  315154  8.6625              S\n",
       "5     1     1 3101298 12.2875              S\n",
       "6     0     0    7538  9.2250              S"
      ]
     },
     "execution_count": 1,
     "metadata": {},
     "output_type": "execute_result"
    }
   ],
   "source": [
    "# Change plot size to 4 x 3\n",
    "options(repr.plot.width=3, repr.plot.height=3)\n",
    "\n",
    "# Set working directory and import datafiles\n",
    "train <- read.csv(\"~/notebooks/kaggle-titanic/train.csv\")\n",
    "test <- read.csv(\"~/notebooks/kaggle-titanic/test.csv\")\n",
    "\n",
    "head(train)\n",
    "head(test)\n"
   ]
  },
  {
   "cell_type": "code",
   "execution_count": 2,
   "metadata": {
    "collapsed": false,
    "scrolled": false
   },
   "outputs": [
    {
     "data": {
      "text/plain": [
       "\n",
       "        0         1 \n",
       "0.6161616 0.3838384 "
      ]
     },
     "execution_count": 2,
     "metadata": {},
     "output_type": "execute_result"
    },
    {
     "data": {
      "text/plain": [
       "   \n",
       "             1          2          3\n",
       "  0 0.08978676 0.10886644 0.41750842\n",
       "  1 0.15263749 0.09764310 0.13355780"
      ]
     },
     "execution_count": 2,
     "metadata": {},
     "output_type": "execute_result"
    },
    {
     "data": {
      "text/plain": [
       "   \n",
       "    female male\n",
       "  0     81  468\n",
       "  1    233  109"
      ]
     },
     "execution_count": 2,
     "metadata": {},
     "output_type": "execute_result"
    },
    {
     "data": {
      "text/plain": [
       "   \n",
       "        female       male\n",
       "  0 0.09090909 0.52525253\n",
       "  1 0.26150393 0.12233446"
      ]
     },
     "execution_count": 2,
     "metadata": {},
     "output_type": "execute_result"
    }
   ],
   "source": [
    "surv_all <- table(train$Survived)\n",
    "surv_pclass <- table(train$Survived, train$Pclass)\n",
    "surv_sex <- table(train$Survived, train$Sex)\n",
    "\n",
    "#barplot(surv_all, xlab = \"Survived\", ylab = \"Number of People\")\n",
    "#barplot(surv_pclass, xlab = \"Cabin Class\", ylab = \"Number of People\")\n",
    "#barplot(surv_sex, xlab = \"Sex\", ylab = \"Number of People\")\n",
    "\n",
    "prop.table(surv_all)\n",
    "prop.table(surv_pclass)\n",
    "surv_sex\n",
    "prop.table(surv_sex)\n"
   ]
  },
  {
   "cell_type": "code",
   "execution_count": 3,
   "metadata": {
    "collapsed": true
   },
   "outputs": [],
   "source": [
    "test$Survived <- rep(0, 418)"
   ]
  },
  {
   "cell_type": "code",
   "execution_count": 4,
   "metadata": {
    "collapsed": false
   },
   "outputs": [
    {
     "data": {
      "text/html": [
       "<table>\n",
       "<thead><tr><th></th><th scope=col>PassengerId</th><th scope=col>Pclass</th><th scope=col>Name</th><th scope=col>Sex</th><th scope=col>Age</th><th scope=col>SibSp</th><th scope=col>Parch</th><th scope=col>Ticket</th><th scope=col>Fare</th><th scope=col>Cabin</th><th scope=col>Embarked</th><th scope=col>Survived</th></tr></thead>\n",
       "<tbody>\n",
       "\t<tr><th scope=row>1</th><td>892</td><td>3</td><td>Kelly, Mr. James</td><td>male</td><td>34.5</td><td>0</td><td>0</td><td>330911</td><td>7.8292</td><td></td><td>Q</td><td>0</td></tr>\n",
       "\t<tr><th scope=row>2</th><td>893</td><td>3</td><td>Wilkes, Mrs. James (Ellen Needs)</td><td>female</td><td>47</td><td>1</td><td>0</td><td>363272</td><td>7</td><td></td><td>S</td><td>0</td></tr>\n",
       "\t<tr><th scope=row>3</th><td>894</td><td>2</td><td>Myles, Mr. Thomas Francis</td><td>male</td><td>62</td><td>0</td><td>0</td><td>240276</td><td>9.6875</td><td></td><td>Q</td><td>0</td></tr>\n",
       "\t<tr><th scope=row>4</th><td>895</td><td>3</td><td>Wirz, Mr. Albert</td><td>male</td><td>27</td><td>0</td><td>0</td><td>315154</td><td>8.6625</td><td></td><td>S</td><td>0</td></tr>\n",
       "\t<tr><th scope=row>5</th><td>896</td><td>3</td><td>Hirvonen, Mrs. Alexander (Helga E Lindqvist)</td><td>female</td><td>22</td><td>1</td><td>1</td><td>3101298</td><td>12.2875</td><td></td><td>S</td><td>0</td></tr>\n",
       "\t<tr><th scope=row>6</th><td>897</td><td>3</td><td>Svensson, Mr. Johan Cervin</td><td>male</td><td>14</td><td>0</td><td>0</td><td>7538</td><td>9.225</td><td></td><td>S</td><td>0</td></tr>\n",
       "</tbody>\n",
       "</table>\n"
      ],
      "text/latex": [
       "\\begin{tabular}{r|llllllllllll}\n",
       "  & PassengerId & Pclass & Name & Sex & Age & SibSp & Parch & Ticket & Fare & Cabin & Embarked & Survived\\\\\n",
       "\\hline\n",
       "\t1 & 892 & 3 & Kelly, Mr. James & male & 34.5 & 0 & 0 & 330911 & 7.8292 &  & Q & 0\\\\\n",
       "\t2 & 893 & 3 & Wilkes, Mrs. James (Ellen Needs) & female & 47 & 1 & 0 & 363272 & 7 &  & S & 0\\\\\n",
       "\t3 & 894 & 2 & Myles, Mr. Thomas Francis & male & 62 & 0 & 0 & 240276 & 9.6875 &  & Q & 0\\\\\n",
       "\t4 & 895 & 3 & Wirz, Mr. Albert & male & 27 & 0 & 0 & 315154 & 8.6625 &  & S & 0\\\\\n",
       "\t5 & 896 & 3 & Hirvonen, Mrs. Alexander (Helga E Lindqvist) & female & 22 & 1 & 1 & 3101298 & 12.2875 &  & S & 0\\\\\n",
       "\t6 & 897 & 3 & Svensson, Mr. Johan Cervin & male & 14 & 0 & 0 & 7538 & 9.225 &  & S & 0\\\\\n",
       "\\end{tabular}\n"
      ],
      "text/plain": [
       "  PassengerId Pclass                                         Name    Sex  Age\n",
       "1         892      3                             Kelly, Mr. James   male 34.5\n",
       "2         893      3             Wilkes, Mrs. James (Ellen Needs) female 47.0\n",
       "3         894      2                    Myles, Mr. Thomas Francis   male 62.0\n",
       "4         895      3                             Wirz, Mr. Albert   male 27.0\n",
       "5         896      3 Hirvonen, Mrs. Alexander (Helga E Lindqvist) female 22.0\n",
       "6         897      3                   Svensson, Mr. Johan Cervin   male 14.0\n",
       "  SibSp Parch  Ticket    Fare Cabin Embarked Survived\n",
       "1     0     0  330911  7.8292              Q        0\n",
       "2     1     0  363272  7.0000              S        0\n",
       "3     0     0  240276  9.6875              Q        0\n",
       "4     0     0  315154  8.6625              S        0\n",
       "5     1     1 3101298 12.2875              S        0\n",
       "6     0     0    7538  9.2250              S        0"
      ]
     },
     "execution_count": 4,
     "metadata": {},
     "output_type": "execute_result"
    }
   ],
   "source": [
    "head(test)"
   ]
  },
  {
   "cell_type": "code",
   "execution_count": 5,
   "metadata": {
    "collapsed": true
   },
   "outputs": [],
   "source": [
    "# gender based model\n",
    "# more females survied, so lets set all of them to 1 just for testing\n",
    "test$Survived <- 0\n",
    "test$Survived[test$Sex == 'female'] <- 1"
   ]
  },
  {
   "cell_type": "code",
   "execution_count": 6,
   "metadata": {
    "collapsed": false
   },
   "outputs": [
    {
     "data": {
      "text/plain": [
       "   Min. 1st Qu.  Median    Mean 3rd Qu.    Max.    NA's \n",
       "   0.42   20.12   28.00   29.70   38.00   80.00     177 "
      ]
     },
     "execution_count": 6,
     "metadata": {},
     "output_type": "execute_result"
    },
    {
     "data": {
      "text/html": [
       "<table>\n",
       "<thead><tr><th></th><th scope=col>Child</th><th scope=col>Sex</th><th scope=col>Survived</th></tr></thead>\n",
       "<tbody>\n",
       "\t<tr><th scope=row>1</th><td>0</td><td>female</td><td>0.7528958</td></tr>\n",
       "\t<tr><th scope=row>2</th><td>1</td><td>female</td><td>0.6909091</td></tr>\n",
       "\t<tr><th scope=row>3</th><td>0</td><td>male</td><td>0.1657033</td></tr>\n",
       "\t<tr><th scope=row>4</th><td>1</td><td>male</td><td>0.3965517</td></tr>\n",
       "</tbody>\n",
       "</table>\n"
      ],
      "text/latex": [
       "\\begin{tabular}{r|lll}\n",
       "  & Child & Sex & Survived\\\\\n",
       "\\hline\n",
       "\t1 & 0 & female & 0.7528958\\\\\n",
       "\t2 & 1 & female & 0.6909091\\\\\n",
       "\t3 & 0 & male & 0.1657033\\\\\n",
       "\t4 & 1 & male & 0.3965517\\\\\n",
       "\\end{tabular}\n"
      ],
      "text/plain": [
       "  Child    Sex  Survived\n",
       "1     0 female 0.7528958\n",
       "2     1 female 0.6909091\n",
       "3     0   male 0.1657033\n",
       "4     1   male 0.3965517"
      ]
     },
     "execution_count": 6,
     "metadata": {},
     "output_type": "execute_result"
    },
    {
     "data": {
      "text/html": [
       "<table>\n",
       "<thead><tr><th></th><th scope=col>Fare2</th><th scope=col>Pclass</th><th scope=col>Sex</th><th scope=col>Survived</th></tr></thead>\n",
       "<tbody>\n",
       "\t<tr><th scope=row>1</th><td>20-30</td><td>1</td><td>female</td><td>0.8333333</td></tr>\n",
       "\t<tr><th scope=row>2</th><td>30+</td><td>1</td><td>female</td><td>0.9772727</td></tr>\n",
       "\t<tr><th scope=row>3</th><td>10-20</td><td>2</td><td>female</td><td>0.9142857</td></tr>\n",
       "\t<tr><th scope=row>4</th><td>20-30</td><td>2</td><td>female</td><td>0.9</td></tr>\n",
       "\t<tr><th scope=row>5</th><td>30+</td><td>2</td><td>female</td><td>1</td></tr>\n",
       "\t<tr><th scope=row>6</th><td><10</td><td>3</td><td>female</td><td>0.59375</td></tr>\n",
       "\t<tr><th scope=row>7</th><td>10-20</td><td>3</td><td>female</td><td>0.5813953</td></tr>\n",
       "\t<tr><th scope=row>8</th><td>20-30</td><td>3</td><td>female</td><td>0.3333333</td></tr>\n",
       "\t<tr><th scope=row>9</th><td>30+</td><td>3</td><td>female</td><td>0.125</td></tr>\n",
       "\t<tr><th scope=row>10</th><td><10</td><td>1</td><td>male</td><td>0</td></tr>\n",
       "\t<tr><th scope=row>11</th><td>20-30</td><td>1</td><td>male</td><td>0.4</td></tr>\n",
       "\t<tr><th scope=row>12</th><td>30+</td><td>1</td><td>male</td><td>0.3837209</td></tr>\n",
       "\t<tr><th scope=row>13</th><td><10</td><td>2</td><td>male</td><td>0</td></tr>\n",
       "\t<tr><th scope=row>14</th><td>10-20</td><td>2</td><td>male</td><td>0.1587302</td></tr>\n",
       "\t<tr><th scope=row>15</th><td>20-30</td><td>2</td><td>male</td><td>0.16</td></tr>\n",
       "\t<tr><th scope=row>16</th><td>30+</td><td>2</td><td>male</td><td>0.2142857</td></tr>\n",
       "\t<tr><th scope=row>17</th><td><10</td><td>3</td><td>male</td><td>0.1115385</td></tr>\n",
       "\t<tr><th scope=row>18</th><td>10-20</td><td>3</td><td>male</td><td>0.2368421</td></tr>\n",
       "\t<tr><th scope=row>19</th><td>20-30</td><td>3</td><td>male</td><td>0.125</td></tr>\n",
       "\t<tr><th scope=row>20</th><td>30+</td><td>3</td><td>male</td><td>0.24</td></tr>\n",
       "</tbody>\n",
       "</table>\n"
      ],
      "text/latex": [
       "\\begin{tabular}{r|llll}\n",
       "  & Fare2 & Pclass & Sex & Survived\\\\\n",
       "\\hline\n",
       "\t1 & 20-30 & 1 & female & 0.8333333\\\\\n",
       "\t2 & 30+ & 1 & female & 0.9772727\\\\\n",
       "\t3 & 10-20 & 2 & female & 0.9142857\\\\\n",
       "\t4 & 20-30 & 2 & female & 0.9\\\\\n",
       "\t5 & 30+ & 2 & female & 1\\\\\n",
       "\t6 & <10 & 3 & female & 0.59375\\\\\n",
       "\t7 & 10-20 & 3 & female & 0.5813953\\\\\n",
       "\t8 & 20-30 & 3 & female & 0.3333333\\\\\n",
       "\t9 & 30+ & 3 & female & 0.125\\\\\n",
       "\t10 & <10 & 1 & male & 0\\\\\n",
       "\t11 & 20-30 & 1 & male & 0.4\\\\\n",
       "\t12 & 30+ & 1 & male & 0.3837209\\\\\n",
       "\t13 & <10 & 2 & male & 0\\\\\n",
       "\t14 & 10-20 & 2 & male & 0.1587302\\\\\n",
       "\t15 & 20-30 & 2 & male & 0.16\\\\\n",
       "\t16 & 30+ & 2 & male & 0.2142857\\\\\n",
       "\t17 & <10 & 3 & male & 0.1115385\\\\\n",
       "\t18 & 10-20 & 3 & male & 0.2368421\\\\\n",
       "\t19 & 20-30 & 3 & male & 0.125\\\\\n",
       "\t20 & 30+ & 3 & male & 0.24\\\\\n",
       "\\end{tabular}\n"
      ],
      "text/plain": [
       "   Fare2 Pclass    Sex  Survived\n",
       "1  20-30      1 female 0.8333333\n",
       "2    30+      1 female 0.9772727\n",
       "3  10-20      2 female 0.9142857\n",
       "4  20-30      2 female 0.9000000\n",
       "5    30+      2 female 1.0000000\n",
       "6    <10      3 female 0.5937500\n",
       "7  10-20      3 female 0.5813953\n",
       "8  20-30      3 female 0.3333333\n",
       "9    30+      3 female 0.1250000\n",
       "10   <10      1   male 0.0000000\n",
       "11 20-30      1   male 0.4000000\n",
       "12   30+      1   male 0.3837209\n",
       "13   <10      2   male 0.0000000\n",
       "14 10-20      2   male 0.1587302\n",
       "15 20-30      2   male 0.1600000\n",
       "16   30+      2   male 0.2142857\n",
       "17   <10      3   male 0.1115385\n",
       "18 10-20      3   male 0.2368421\n",
       "19 20-30      3   male 0.1250000\n",
       "20   30+      3   male 0.2400000"
      ]
     },
     "execution_count": 6,
     "metadata": {},
     "output_type": "execute_result"
    }
   ],
   "source": [
    "summary(train$Age)\n",
    "train$Child <- 0\n",
    "train$Child[train$Age < 18] <- 1\n",
    "\n",
    "aggregate(Survived ~ Child + Sex, data=train, FUN=function(x) {sum(x)/length(x)})\n",
    "\n",
    "train$Fare2 <- '30+'\n",
    "train$Fare2[train$Fare < 30 & train$Fare >= 20] <- '20-30'\n",
    "train$Fare2[train$Fare < 20 & train$Fare >= 10] <- '10-20'\n",
    "train$Fare2[train$Fare < 10] <- '<10'\n",
    "\n",
    "aggregate(Survived ~ Fare2 + Pclass + Sex, data=train, FUN=function(x) {sum(x)/length(x)})\n",
    "\n",
    "test$Survived <- 0\n",
    "test$Survived[test$Sex == 'female'] <- 1\n",
    "test$Survived[test$Sex == 'female' & test$Pclass == 3 & test$Fare >= 20] <- 0"
   ]
  },
  {
   "cell_type": "code",
   "execution_count": 7,
   "metadata": {
    "collapsed": false
   },
   "outputs": [],
   "source": [
    "# submit and export csv\n",
    "submit <- data.frame(PassengerId = test$PassengerId, Survived = test$Survived)\n",
    "write.csv(submit, file = \"~/notebooks/kaggle-titanic/results_001.csv\", row.names = FALSE)"
   ]
  },
  {
   "cell_type": "code",
   "execution_count": null,
   "metadata": {
    "collapsed": true
   },
   "outputs": [],
   "source": []
  }
 ],
 "metadata": {
  "kernelspec": {
   "display_name": "R",
   "language": "R",
   "name": "ir"
  },
  "language_info": {
   "codemirror_mode": "r",
   "file_extension": ".r",
   "mimetype": "text/x-r-source",
   "name": "R",
   "pygments_lexer": "r",
   "version": "3.2.2"
  }
 },
 "nbformat": 4,
 "nbformat_minor": 0
}
